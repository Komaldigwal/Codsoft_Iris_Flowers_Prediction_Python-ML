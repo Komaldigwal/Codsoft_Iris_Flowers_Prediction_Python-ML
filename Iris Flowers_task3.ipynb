{
 "cells": [
  {
   "cell_type": "code",
   "execution_count": null,
   "id": "d89e2f39-e966-4958-9389-315676e4f676",
   "metadata": {},
   "outputs": [],
   "source": [
    "import pandas as pd\n",
    "import numpy as np\n",
    "import seaborn as sns\n",
    "import matplotlib.pyplot as plt\n",
    "\n",
    "from sklearn.model_selection import train_test_split\n",
    "from sklearn.preprocessing import LabelEncoder\n",
    "from sklearn.metrics import classification_report, confusion_matrix, accuracy_score\n",
    "from sklearn.ensemble import RandomForestClassifier\n",
    "from sklearn.linear_model import LogisticRegression\n",
    "\n",
    "import os"
   ]
  },
  {
   "cell_type": "markdown",
   "id": "71556c12-baba-4af9-a5b4-69807cd3e111",
   "metadata": {},
   "source": [
    "# Load the Dataset"
   ]
  },
  {
   "cell_type": "code",
   "execution_count": null,
   "id": "0fedbd71-818f-459a-94f3-8be62d2005c9",
   "metadata": {},
   "outputs": [],
   "source": [
    "import kagglehub\n",
    "path = kagglehub.dataset_download(\"arshid/iris-flower-dataset\")\n",
    "print(\"Path to dataset files:\", path)\n"
   ]
  },
  {
   "cell_type": "code",
   "execution_count": null,
   "id": "e13b5da8-be51-4f11-af35-5e35f3b24930",
   "metadata": {},
   "outputs": [],
   "source": [
    "print(os.listdir(path))"
   ]
  },
  {
   "cell_type": "markdown",
   "id": "56610d45-d5f3-4a2b-bd7b-6e1dd2e79dc4",
   "metadata": {},
   "source": [
    "# Read"
   ]
  },
  {
   "cell_type": "code",
   "execution_count": null,
   "id": "931520b4-b056-438e-8695-669d9a367552",
   "metadata": {},
   "outputs": [],
   "source": [
    "df = pd.read_csv(\"C:/Users/Admin/.cache/kagglehub/datasets/arshid/iris-flower-dataset/versions/1/IRIS.csv\")\n",
    "df.head()\n"
   ]
  },
  {
   "cell_type": "markdown",
   "id": "2fa874e4-96a4-4aa2-9e71-13df4b2bf61e",
   "metadata": {},
   "source": [
    "# Data Info and Clean-Up"
   ]
  },
  {
   "cell_type": "code",
   "execution_count": null,
   "id": "609325fd-94dd-4b07-b4b6-0242649bf6a7",
   "metadata": {},
   "outputs": [],
   "source": [
    "# Basic info about the dataset\n",
    "print(\"Dataset Information:\")\n",
    "print(df.info())"
   ]
  },
  {
   "cell_type": "code",
   "execution_count": null,
   "id": "45eebbc3-3330-487f-8b8d-0efe1b9353b8",
   "metadata": {},
   "outputs": [],
   "source": [
    "# Summary statistics\n",
    "print(\"\\nSummary Statistics:\")\n",
    "print(df.describe())"
   ]
  },
  {
   "cell_type": "code",
   "execution_count": null,
   "id": "8ba10cb7-08d7-4d1e-b600-87a2da9936f4",
   "metadata": {},
   "outputs": [],
   "source": [
    "# Check for missing values\n",
    "print(\"\\nMissing Values:\")\n",
    "print(df.isnull().sum())"
   ]
  },
  {
   "cell_type": "code",
   "execution_count": null,
   "id": "4ba218db-5246-4b0c-9ddd-c69ad2e66543",
   "metadata": {},
   "outputs": [],
   "source": [
    "# Display column names\n",
    "print(\"\\nColumn Names:\")\n",
    "print(df.columns)"
   ]
  },
  {
   "cell_type": "markdown",
   "id": "e7a35045-aad0-43d9-b7fa-d0fba64f4828",
   "metadata": {},
   "source": [
    "# EDA – Visualizations"
   ]
  },
  {
   "cell_type": "markdown",
   "id": "d2543630-d892-4118-94eb-9d27505e0011",
   "metadata": {},
   "source": [
    "### Countplot for Species Distribution"
   ]
  },
  {
   "cell_type": "code",
   "execution_count": null,
   "id": "b2a38f7d-8304-487a-b80a-ba4ceea80572",
   "metadata": {},
   "outputs": [],
   "source": [
    "sns.countplot(x='species', data=df)\n",
    "plt.title('Distribution of Iris Species')\n",
    "plt.show()\n"
   ]
  },
  {
   "cell_type": "markdown",
   "id": "d2c13869-c599-4258-a5f0-e68965f41a3f",
   "metadata": {},
   "source": [
    "###  Pairplot for Feature Relationships"
   ]
  },
  {
   "cell_type": "code",
   "execution_count": null,
   "id": "a312354c-0369-4dcc-99b4-d9fecd550a6d",
   "metadata": {},
   "outputs": [],
   "source": [
    "sns.pairplot(df, hue='species')\n",
    "plt.show()"
   ]
  },
  {
   "cell_type": "markdown",
   "id": "acf4090d-8fd7-491a-8ea7-05e9b0560c63",
   "metadata": {},
   "source": [
    "### Correlation Heatmap"
   ]
  },
  {
   "cell_type": "code",
   "execution_count": null,
   "id": "0622787b-53c2-4b79-94b3-02c9ac8e7914",
   "metadata": {},
   "outputs": [],
   "source": [
    "plt.figure(figsize=(8, 6))\n",
    "sns.heatmap(df.corr(numeric_only=True), annot=True, cmap='coolwarm')\n",
    "plt.title(\"Feature Correlation Heatmap\")\n",
    "plt.show()\n"
   ]
  },
  {
   "cell_type": "markdown",
   "id": "969e704c-3ba5-4d7c-8cd8-65e9de4a0e93",
   "metadata": {},
   "source": [
    "# Data Preparation"
   ]
  },
  {
   "cell_type": "code",
   "execution_count": null,
   "id": "06df394f-6acc-40a5-9a77-37a8ea010508",
   "metadata": {},
   "outputs": [],
   "source": [
    "# Features (all columns except 'species') and target\n",
    "X = df.drop('species', axis=1)\n",
    "y = df['species']\n",
    "\n",
    "# Encode the target labels (if not already numeric)\n",
    "le = LabelEncoder()\n",
    "y_encoded = le.fit_transform(y)\n",
    "\n",
    "# Display the unique classes for verification\n",
    "print(\"Unique Classes:\", le.classes_)\n"
   ]
  },
  {
   "cell_type": "code",
   "execution_count": null,
   "id": "c1a81f4e-8151-4d70-8177-679f24d7d82c",
   "metadata": {},
   "outputs": [],
   "source": [
    "X_train, X_test, y_train, y_test = train_test_split(X, y_encoded, test_size=0.2, random_state=42)"
   ]
  },
  {
   "cell_type": "markdown",
   "id": "5e227dfa-f2d0-449a-b48b-92ba9f947660",
   "metadata": {},
   "source": [
    "# Model Training"
   ]
  },
  {
   "cell_type": "markdown",
   "id": "5232a590-0314-469d-a6d0-9c07d4c58014",
   "metadata": {},
   "source": [
    "### Random Forest Classifier"
   ]
  },
  {
   "cell_type": "code",
   "execution_count": null,
   "id": "0974e701-bb1d-4448-a32a-aaa65d7e714f",
   "metadata": {},
   "outputs": [],
   "source": [
    "rf_model = RandomForestClassifier(n_estimators=100, random_state=42)\n",
    "rf_model.fit(X_train, y_train)\n",
    "y_pred_rf = rf_model.predict(X_test)\n"
   ]
  },
  {
   "cell_type": "markdown",
   "id": "b0e5bbd1-0517-41b9-926a-52d0898421b7",
   "metadata": {},
   "source": [
    "### Logistic Regression"
   ]
  },
  {
   "cell_type": "code",
   "execution_count": null,
   "id": "c93acc5d-845c-43b1-b3a7-6bb9364ff00b",
   "metadata": {},
   "outputs": [],
   "source": [
    "lr_model = LogisticRegression(max_iter=200)\n",
    "lr_model.fit(X_train, y_train)\n",
    "y_pred_lr = lr_model.predict(X_test)\n"
   ]
  },
  {
   "cell_type": "markdown",
   "id": "b380e2a3-3d76-44f0-8d75-9947ecde6fa9",
   "metadata": {},
   "source": [
    "# Model Evaluation"
   ]
  },
  {
   "cell_type": "markdown",
   "id": "61ba4fff-be4b-4eee-ae78-5a1083c2eb8d",
   "metadata": {},
   "source": [
    "### Random Forest Evaluation"
   ]
  },
  {
   "cell_type": "code",
   "execution_count": null,
   "id": "8d59054d-71d0-43f1-9bd1-6ebb85bd88d8",
   "metadata": {},
   "outputs": [],
   "source": [
    "print(\"Random Forest Classifier Results:\")\n",
    "print(\"Accuracy:\", accuracy_score(y_test, y_pred_rf))\n",
    "print(\"\\nClassification Report:\")\n",
    "print(classification_report(y_test, y_pred_rf))\n",
    "print(\"Confusion Matrix:\")\n",
    "print(confusion_matrix(y_test, y_pred_rf))\n"
   ]
  },
  {
   "cell_type": "markdown",
   "id": "d058eb8d-cef2-4d45-9334-e550de88cd7b",
   "metadata": {},
   "source": [
    "### Logistic Regression Evaluation"
   ]
  },
  {
   "cell_type": "code",
   "execution_count": null,
   "id": "49f35342-20d8-4abd-952e-00760b935718",
   "metadata": {},
   "outputs": [],
   "source": [
    "print(\"\\nLogistic Regression Results:\")\n",
    "print(\"Accuracy:\", accuracy_score(y_test, y_pred_lr))\n",
    "print(\"\\nClassification Report:\")\n",
    "print(classification_report(y_test, y_pred_lr))\n",
    "print(\"Confusion Matrix:\")\n",
    "print(confusion_matrix(y_test, y_pred_lr))\n"
   ]
  },
  {
   "cell_type": "markdown",
   "id": "314cce40-9882-4b36-99ae-c77e00a4560f",
   "metadata": {},
   "source": [
    "## Model Comparison"
   ]
  },
  {
   "cell_type": "code",
   "execution_count": null,
   "id": "e69d2fdb-d2bb-477c-bc5e-aca0a51edd78",
   "metadata": {},
   "outputs": [],
   "source": [
    "print(\"Model Comparison:\")\n",
    "print(\"Random Forest Accuracy:\", accuracy_score(y_test, y_pred_rf))\n",
    "print(\"Logistic Regression Accuracy:\", accuracy_score(y_test, y_pred_lr))\n"
   ]
  },
  {
   "cell_type": "markdown",
   "id": "0a2f9703-7de0-4afa-b22b-a4a2f61479ff",
   "metadata": {},
   "source": [
    "# Visualization"
   ]
  },
  {
   "cell_type": "code",
   "execution_count": null,
   "id": "0d4f5479-2049-4663-b5e9-ff0e2fadffcd",
   "metadata": {},
   "outputs": [],
   "source": [
    "cm = confusion_matrix(y_test, y_pred_rf)\n",
    "sns.heatmap(cm, annot=True, fmt='d', cmap='Blues', xticklabels=le.classes_, yticklabels=le.classes_)\n",
    "plt.xlabel('Predicted')\n",
    "plt.ylabel('Actual')\n",
    "plt.title('Random Forest Confusion Matrix')\n",
    "plt.show()\n"
   ]
  },
  {
   "cell_type": "code",
   "execution_count": null,
   "id": "cc660176-b580-4c1d-ba3f-d06b4dae9cf7",
   "metadata": {},
   "outputs": [],
   "source": [
    "feature_importances = pd.DataFrame({\n",
    "    'feature': X.columns,\n",
    "    'importance': rf_model.feature_importances_}).sort_values(by='importance', ascending=False)\n",
    "print(feature_importances)\n",
    "\n",
    "# Plot feature importances\n",
    "sns.barplot(x='importance', y='feature', data=feature_importances)\n",
    "plt.title(\"Feature Importances from Random Forest\")\n",
    "plt.show()\n"
   ]
  },
  {
   "cell_type": "code",
   "execution_count": null,
   "id": "0f798575-5366-467c-9760-44e42e45f466",
   "metadata": {},
   "outputs": [],
   "source": []
  }
 ],
 "metadata": {
  "kernelspec": {
   "display_name": "Python 3 (ipykernel)",
   "language": "python",
   "name": "python3"
  },
  "language_info": {
   "codemirror_mode": {
    "name": "ipython",
    "version": 3
   },
   "file_extension": ".py",
   "mimetype": "text/x-python",
   "name": "python",
   "nbconvert_exporter": "python",
   "pygments_lexer": "ipython3",
   "version": "3.12.10"
  }
 },
 "nbformat": 4,
 "nbformat_minor": 5
}
